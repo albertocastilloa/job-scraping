{
 "cells": [
  {
   "cell_type": "code",
   "execution_count": 1,
   "metadata": {},
   "outputs": [],
   "source": [
    "#Call dependencies\n",
    "from bs4 import BeautifulSoup\n",
    "import requests\n",
    "import pandas as pd\n",
    "from splinter import Browser\n",
    "from sqlalchemy import create_engine"
   ]
  },
  {
   "cell_type": "markdown",
   "metadata": {},
   "source": [
    "# (E)xtract"
   ]
  },
  {
   "cell_type": "code",
   "execution_count": 2,
   "metadata": {},
   "outputs": [
    {
     "name": "stdout",
     "output_type": "stream",
     "text": [
      "/usr/local/bin/chromedriver\r\n"
     ]
    }
   ],
   "source": [
    "#Activate driver\n",
    "# https://splinter.readthedocs.io/en/latest/drivers/chrome.html\n",
    "!which chromedriver"
   ]
  },
  {
   "cell_type": "code",
   "execution_count": 3,
   "metadata": {},
   "outputs": [],
   "source": [
    "#Start automated test software in Chrome\n",
    "executable_path = {'executable_path': '/usr/local/bin/chromedriver'}\n",
    "browser = Browser('chrome', **executable_path, headless=False)"
   ]
  },
  {
   "cell_type": "code",
   "execution_count": 4,
   "metadata": {
    "scrolled": true
   },
   "outputs": [
    {
     "data": {
      "text/plain": [
       "342"
      ]
     },
     "execution_count": 4,
     "metadata": {},
     "output_type": "execute_result"
    }
   ],
   "source": [
    "job_title = []\n",
    "job_desc = []\n",
    "job_salary = []\n",
    "job_company = []\n",
    "job_link = []\n",
    "job_type = []\n",
    "\n",
    "def scrap_pagination():\n",
    "    browser.visit(source)\n",
    "    html_source = browser.html\n",
    "    source_soup = BeautifulSoup(html_source, 'html.parser')\n",
    "    job_result_pag = source_soup.find('div', class_='searchCount-a11y-contrast-color').text\n",
    "    job_result_pag = [int(s) for s in job_result_pag.split() if s.isdigit()]\n",
    "    job_pag_total = int((int(job_result_pag[1]) / 10) + 1)\n",
    "    if job_pag_total > 10:\n",
    "        job_pag_total = 110\n",
    "    else:\n",
    "        job_pag_total = int(job_pag_total + 10)\n",
    "    \n",
    "    return job_pag_total\n",
    "\n",
    "def scrap_page():\n",
    "    keywords = ['python', 'sql', 'mongodb', 'sqlalchemy', 'javascript']\n",
    "    #URL to be scraped\n",
    "    for key in keywords:\n",
    "        for i in range(0,110, 10):\n",
    "            #Set URL\n",
    "            source = \"https://www.indeed.com.mx/trabajo?q=\"+ key +\"&l=CDMX&start=\" + str(i)\n",
    "            #Load source\n",
    "            browser.visit(source)\n",
    "            #Extract HTML\n",
    "            html_source = browser.html\n",
    "            #Make the soup!\n",
    "            source_soup = BeautifulSoup(html_source, 'html.parser')\n",
    "            #Get job card\n",
    "            job_card = source_soup.find_all('div', class_='jobsearch-SerpJobCard')\n",
    "            #Loop into pagination\n",
    "            if i > 9 and i < 91:\n",
    "                for jb in job_card:\n",
    "                    try:\n",
    "                        html_jobTitle = jb.find('a', class_='jobtitle').text.strip().replace('\\n', '')\n",
    "                        html_jobDesc = jb.find('div', class_='summary').text.strip().replace('\\n', '')\n",
    "                        html_salary = jb.find('span', class_='salary').text.strip().replace('\\n', '')\n",
    "                        html_company_name = jb.find('span', class_='company').text.strip().replace('\\n', '')\n",
    "                        html_link = jb.a['href']\n",
    "                        if (html_jobTitle and html_jobDesc and html_salary and html_company_name and html_link):\n",
    "                            job_title.append(html_jobTitle)\n",
    "                            job_desc.append(html_jobDesc)\n",
    "                            html_salary = html_salary.replace('$', '').replace(',', '').replace('al mes','').replace('al año','').replace('100 al día', '')\n",
    "                            job_salary.append(html_salary)\n",
    "                            job_company.append(html_company_name)\n",
    "                            job_link.append(html_link)\n",
    "                            job_type.append(key)\n",
    "\n",
    "                    except AttributeError as e:\n",
    "                        pass\n",
    "    return len(job_title)\n",
    "\n",
    "scrap_page()"
   ]
  },
  {
   "cell_type": "code",
   "execution_count": 63,
   "metadata": {},
   "outputs": [],
   "source": [
    "job_list = list(zip(job_title,job_desc,job_salary,job_company,job_link,job_type))"
   ]
  },
  {
   "cell_type": "markdown",
   "metadata": {},
   "source": [
    "# (T)ransform"
   ]
  },
  {
   "cell_type": "code",
   "execution_count": 64,
   "metadata": {},
   "outputs": [],
   "source": [
    "jobs_df = pd.DataFrame(job_list, columns =['job_title','job_description', 'job_salary', 'job_company', 'job_link', 'job_type'])"
   ]
  },
  {
   "cell_type": "code",
   "execution_count": 65,
   "metadata": {},
   "outputs": [
    {
     "data": {
      "text/plain": [
       "342"
      ]
     },
     "execution_count": 65,
     "metadata": {},
     "output_type": "execute_result"
    }
   ],
   "source": [
    "len(jobs_df)"
   ]
  },
  {
   "cell_type": "code",
   "execution_count": 66,
   "metadata": {
    "scrolled": false
   },
   "outputs": [
    {
     "data": {
      "text/html": [
       "<div>\n",
       "<style scoped>\n",
       "    .dataframe tbody tr th:only-of-type {\n",
       "        vertical-align: middle;\n",
       "    }\n",
       "\n",
       "    .dataframe tbody tr th {\n",
       "        vertical-align: top;\n",
       "    }\n",
       "\n",
       "    .dataframe thead th {\n",
       "        text-align: right;\n",
       "    }\n",
       "</style>\n",
       "<table border=\"1\" class=\"dataframe\">\n",
       "  <thead>\n",
       "    <tr style=\"text-align: right;\">\n",
       "      <th></th>\n",
       "      <th>job_title</th>\n",
       "      <th>job_description</th>\n",
       "      <th>job_salary</th>\n",
       "      <th>job_company</th>\n",
       "      <th>job_link</th>\n",
       "      <th>job_type</th>\n",
       "    </tr>\n",
       "  </thead>\n",
       "  <tbody>\n",
       "    <tr>\n",
       "      <th>0</th>\n",
       "      <td>Analista de datos - R Studio - Python</td>\n",
       "      <td>Análisis estadístico de datos, simples y avanz...</td>\n",
       "      <td>18000</td>\n",
       "      <td>Adecco</td>\n",
       "      <td>/pagead/clk?mo=r&amp;ad=-6NYlbfkN0Af3D-fRanEpkMpBd...</td>\n",
       "      <td>python</td>\n",
       "    </tr>\n",
       "    <tr>\n",
       "      <th>1</th>\n",
       "      <td>Desarrollador Back-end Jr.</td>\n",
       "      <td>Somos un equipo multicultural trabajando en la...</td>\n",
       "      <td>15000 - 25000</td>\n",
       "      <td>Entropy</td>\n",
       "      <td>/pagead/clk?mo=r&amp;ad=-6NYlbfkN0A7W8bu-BrN6O4YMq...</td>\n",
       "      <td>python</td>\n",
       "    </tr>\n",
       "    <tr>\n",
       "      <th>2</th>\n",
       "      <td>Backend Python</td>\n",
       "      <td>Experiencia en Python y Django o Flask. … Empr...</td>\n",
       "      <td>25000 - 45000</td>\n",
       "      <td>Page Group</td>\n",
       "      <td>/pagead/clk?mo=r&amp;ad=-6NYlbfkN0Af3D-fRanEpkMpBd...</td>\n",
       "      <td>python</td>\n",
       "    </tr>\n",
       "    <tr>\n",
       "      <th>3</th>\n",
       "      <td>ANALISTA DE BASE DE DATOS</td>\n",
       "      <td>Empresa con 14 años en el mercado, solicita de...</td>\n",
       "      <td>8500 - 10000</td>\n",
       "      <td>ION APS</td>\n",
       "      <td>/company/ION-APS/jobs/Analista-base-datos-09de...</td>\n",
       "      <td>python</td>\n",
       "    </tr>\n",
       "    <tr>\n",
       "      <th>4</th>\n",
       "      <td>Analista de Calidad de Datos</td>\n",
       "      <td>ANALISTA DE CALIDAD DE DATOS*. … Ejecutar las ...</td>\n",
       "      <td>17000 - 20000</td>\n",
       "      <td>Nielsen</td>\n",
       "      <td>/company/Nielsen/jobs/Analista-calidad-datos-1...</td>\n",
       "      <td>python</td>\n",
       "    </tr>\n",
       "  </tbody>\n",
       "</table>\n",
       "</div>"
      ],
      "text/plain": [
       "                               job_title  \\\n",
       "0  Analista de datos - R Studio - Python   \n",
       "1             Desarrollador Back-end Jr.   \n",
       "2                         Backend Python   \n",
       "3              ANALISTA DE BASE DE DATOS   \n",
       "4           Analista de Calidad de Datos   \n",
       "\n",
       "                                     job_description      job_salary  \\\n",
       "0  Análisis estadístico de datos, simples y avanz...          18000    \n",
       "1  Somos un equipo multicultural trabajando en la...  15000 - 25000    \n",
       "2  Experiencia en Python y Django o Flask. … Empr...  25000 - 45000    \n",
       "3  Empresa con 14 años en el mercado, solicita de...   8500 - 10000    \n",
       "4  ANALISTA DE CALIDAD DE DATOS*. … Ejecutar las ...  17000 - 20000    \n",
       "\n",
       "  job_company                                           job_link job_type  \n",
       "0      Adecco  /pagead/clk?mo=r&ad=-6NYlbfkN0Af3D-fRanEpkMpBd...   python  \n",
       "1     Entropy  /pagead/clk?mo=r&ad=-6NYlbfkN0A7W8bu-BrN6O4YMq...   python  \n",
       "2  Page Group  /pagead/clk?mo=r&ad=-6NYlbfkN0Af3D-fRanEpkMpBd...   python  \n",
       "3     ION APS  /company/ION-APS/jobs/Analista-base-datos-09de...   python  \n",
       "4     Nielsen  /company/Nielsen/jobs/Analista-calidad-datos-1...   python  "
      ]
     },
     "execution_count": 66,
     "metadata": {},
     "output_type": "execute_result"
    }
   ],
   "source": [
    "jobs_df.head()"
   ]
  },
  {
   "cell_type": "code",
   "execution_count": 67,
   "metadata": {},
   "outputs": [],
   "source": [
    "# make string version of original column, call it 'col'\n",
    "jobs_df['salary'] = jobs_df['job_salary'].astype(str)\n",
    "# make the new columns using string indexing\n",
    "jobs_df['min_salary'] = jobs_df['salary'].str[0:5].astype(float)\n",
    "jobs_df['max_salary'] = jobs_df['salary'].str[7:13]\n",
    "\n",
    "# get rid of the extra variable (if you want)\n",
    "jobs_df.drop('salary', axis=1, inplace=True)\n",
    "jobs_df.drop('job_salary', axis=1, inplace=True)"
   ]
  },
  {
   "cell_type": "code",
   "execution_count": 68,
   "metadata": {},
   "outputs": [
    {
     "data": {
      "text/html": [
       "<div>\n",
       "<style scoped>\n",
       "    .dataframe tbody tr th:only-of-type {\n",
       "        vertical-align: middle;\n",
       "    }\n",
       "\n",
       "    .dataframe tbody tr th {\n",
       "        vertical-align: top;\n",
       "    }\n",
       "\n",
       "    .dataframe thead th {\n",
       "        text-align: right;\n",
       "    }\n",
       "</style>\n",
       "<table border=\"1\" class=\"dataframe\">\n",
       "  <thead>\n",
       "    <tr style=\"text-align: right;\">\n",
       "      <th></th>\n",
       "      <th>job_title</th>\n",
       "      <th>job_description</th>\n",
       "      <th>job_company</th>\n",
       "      <th>job_link</th>\n",
       "      <th>job_type</th>\n",
       "      <th>min_salary</th>\n",
       "      <th>max_salary</th>\n",
       "    </tr>\n",
       "  </thead>\n",
       "  <tbody>\n",
       "    <tr>\n",
       "      <th>0</th>\n",
       "      <td>Analista de datos - R Studio - Python</td>\n",
       "      <td>Análisis estadístico de datos, simples y avanz...</td>\n",
       "      <td>Adecco</td>\n",
       "      <td>/pagead/clk?mo=r&amp;ad=-6NYlbfkN0Af3D-fRanEpkMpBd...</td>\n",
       "      <td>python</td>\n",
       "      <td>18000.0</td>\n",
       "      <td></td>\n",
       "    </tr>\n",
       "    <tr>\n",
       "      <th>1</th>\n",
       "      <td>Desarrollador Back-end Jr.</td>\n",
       "      <td>Somos un equipo multicultural trabajando en la...</td>\n",
       "      <td>Entropy</td>\n",
       "      <td>/pagead/clk?mo=r&amp;ad=-6NYlbfkN0A7W8bu-BrN6O4YMq...</td>\n",
       "      <td>python</td>\n",
       "      <td>15000.0</td>\n",
       "      <td>25000</td>\n",
       "    </tr>\n",
       "    <tr>\n",
       "      <th>2</th>\n",
       "      <td>Backend Python</td>\n",
       "      <td>Experiencia en Python y Django o Flask. … Empr...</td>\n",
       "      <td>Page Group</td>\n",
       "      <td>/pagead/clk?mo=r&amp;ad=-6NYlbfkN0Af3D-fRanEpkMpBd...</td>\n",
       "      <td>python</td>\n",
       "      <td>25000.0</td>\n",
       "      <td>45000</td>\n",
       "    </tr>\n",
       "    <tr>\n",
       "      <th>3</th>\n",
       "      <td>ANALISTA DE BASE DE DATOS</td>\n",
       "      <td>Empresa con 14 años en el mercado, solicita de...</td>\n",
       "      <td>ION APS</td>\n",
       "      <td>/company/ION-APS/jobs/Analista-base-datos-09de...</td>\n",
       "      <td>python</td>\n",
       "      <td>8500.0</td>\n",
       "      <td>10000</td>\n",
       "    </tr>\n",
       "    <tr>\n",
       "      <th>4</th>\n",
       "      <td>Analista de Calidad de Datos</td>\n",
       "      <td>ANALISTA DE CALIDAD DE DATOS*. … Ejecutar las ...</td>\n",
       "      <td>Nielsen</td>\n",
       "      <td>/company/Nielsen/jobs/Analista-calidad-datos-1...</td>\n",
       "      <td>python</td>\n",
       "      <td>17000.0</td>\n",
       "      <td>20000</td>\n",
       "    </tr>\n",
       "  </tbody>\n",
       "</table>\n",
       "</div>"
      ],
      "text/plain": [
       "                               job_title  \\\n",
       "0  Analista de datos - R Studio - Python   \n",
       "1             Desarrollador Back-end Jr.   \n",
       "2                         Backend Python   \n",
       "3              ANALISTA DE BASE DE DATOS   \n",
       "4           Analista de Calidad de Datos   \n",
       "\n",
       "                                     job_description job_company  \\\n",
       "0  Análisis estadístico de datos, simples y avanz...      Adecco   \n",
       "1  Somos un equipo multicultural trabajando en la...     Entropy   \n",
       "2  Experiencia en Python y Django o Flask. … Empr...  Page Group   \n",
       "3  Empresa con 14 años en el mercado, solicita de...     ION APS   \n",
       "4  ANALISTA DE CALIDAD DE DATOS*. … Ejecutar las ...     Nielsen   \n",
       "\n",
       "                                            job_link job_type  min_salary  \\\n",
       "0  /pagead/clk?mo=r&ad=-6NYlbfkN0Af3D-fRanEpkMpBd...   python     18000.0   \n",
       "1  /pagead/clk?mo=r&ad=-6NYlbfkN0A7W8bu-BrN6O4YMq...   python     15000.0   \n",
       "2  /pagead/clk?mo=r&ad=-6NYlbfkN0Af3D-fRanEpkMpBd...   python     25000.0   \n",
       "3  /company/ION-APS/jobs/Analista-base-datos-09de...   python      8500.0   \n",
       "4  /company/Nielsen/jobs/Analista-calidad-datos-1...   python     17000.0   \n",
       "\n",
       "  max_salary  \n",
       "0             \n",
       "1      25000  \n",
       "2      45000  \n",
       "3     10000   \n",
       "4      20000  "
      ]
     },
     "execution_count": 68,
     "metadata": {},
     "output_type": "execute_result"
    }
   ],
   "source": [
    "jobs_df.head()"
   ]
  },
  {
   "cell_type": "code",
   "execution_count": 71,
   "metadata": {},
   "outputs": [],
   "source": [
    "jobs_df_2 = jobs_df.groupby('job_type')['min_salary'].mean()"
   ]
  },
  {
   "cell_type": "code",
   "execution_count": 72,
   "metadata": {},
   "outputs": [
    {
     "data": {
      "text/plain": [
       "job_type\n",
       "javascript    20388.463636\n",
       "mongodb       33430.982759\n",
       "python        20232.142857\n",
       "sql           18802.677778\n",
       "Name: min_salary, dtype: float64"
      ]
     },
     "execution_count": 72,
     "metadata": {},
     "output_type": "execute_result"
    }
   ],
   "source": [
    "jobs_df_2.head()"
   ]
  },
  {
   "cell_type": "code",
   "execution_count": 73,
   "metadata": {},
   "outputs": [
    {
     "data": {
      "text/plain": [
       "<matplotlib.axes._subplots.AxesSubplot at 0x124cfed30>"
      ]
     },
     "execution_count": 73,
     "metadata": {},
     "output_type": "execute_result"
    },
    {
     "data": {
      "image/png": "[encoded data removed]",
      "text/plain": [
       "<Figure size 432x288 with 1 Axes>"
      ]
     },
     "metadata": {
      "needs_background": "light"
     },
     "output_type": "display_data"
    }
   ],
   "source": [
    "jobs_df_2.plot(kind='bar')"
   ]
  },
  {
   "cell_type": "markdown",
   "metadata": {},
   "source": [
    "# (L)oad"
   ]
  },
  {
   "cell_type": "code",
   "execution_count": 74,
   "metadata": {},
   "outputs": [],
   "source": [
    "rds_connection_string = \"postgres:python123@localhost:5432/customer_db\"\n",
    "engine = create_engine(f'postgresql://{rds_connection_string}')"
   ]
  },
  {
   "cell_type": "code",
   "execution_count": 75,
   "metadata": {},
   "outputs": [
    {
     "data": {
      "text/plain": [
       "['county', 'premise', 'indeed_jobs']"
      ]
     },
     "execution_count": 75,
     "metadata": {},
     "output_type": "execute_result"
    }
   ],
   "source": [
    "engine.table_names()"
   ]
  },
  {
   "cell_type": "code",
   "execution_count": 76,
   "metadata": {},
   "outputs": [],
   "source": [
    "jobs_df.to_sql(name='indeed_jobs', con=engine, if_exists='append', index=False)"
   ]
  }
 ],
 "metadata": {
  "kernelspec": {
   "display_name": "Python 3",
   "language": "python",
   "name": "python3"
  },
  "language_info": {
   "codemirror_mode": {
    "name": "ipython",
    "version": 3
   },
   "file_extension": ".py",
   "mimetype": "text/x-python",
   "name": "python",
   "nbconvert_exporter": "python",
   "pygments_lexer": "ipython3",
   "version": "3.7.1"
  }
 },
 "nbformat": 4,
 "nbformat_minor": 2
}
